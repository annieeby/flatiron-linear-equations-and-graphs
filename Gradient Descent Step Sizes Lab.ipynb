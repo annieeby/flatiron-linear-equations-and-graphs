{
 "cells": [
  {
   "cell_type": "code",
   "execution_count": 30,
   "metadata": {},
   "outputs": [],
   "source": [
    "first_show = {'budget': 100, 'revenue': 275}\n",
    "second_show = {'budget': 200, 'revenue': 300}\n",
    "third_show = {'budget': 400, 'revenue': 700}\n",
    "\n",
    "shows = [first_show, second_show, third_show]"
   ]
  },
  {
   "cell_type": "code",
   "execution_count": 31,
   "metadata": {},
   "outputs": [],
   "source": [
    "from linear_equations import build_regression_line\n",
    "\n",
    "x_values = budgets = list(map(lambda show: show['budget'], shows))\n",
    "y_values = revenues = list(map(lambda show: show['revenue'], shows))"
   ]
  },
  {
   "cell_type": "code",
   "execution_count": 32,
   "metadata": {},
   "outputs": [
    {
     "data": {
      "text/plain": [
       "{'m': 1.4166666666666667, 'b': 133.33333333333326}"
      ]
     },
     "execution_count": 32,
     "metadata": {},
     "output_type": "execute_result"
    }
   ],
   "source": [
    "build_regression_line(budgets, revenues)\n",
    "\n",
    "#my own; not in lesson"
   ]
  },
  {
   "cell_type": "code",
   "execution_count": 33,
   "metadata": {},
   "outputs": [],
   "source": [
    "def regression_line(x):\n",
    "    return .6*x + 133.33\n",
    "\n",
    "#Question: Why does the exercise want us to start with .6x when the build_regression_line returned a slope of 1.4, not 0.6?"
   ]
  },
  {
   "cell_type": "code",
   "execution_count": 34,
   "metadata": {},
   "outputs": [
    {
     "data": {
      "text/plain": [
       "[(100, 275), (200, 300), (400, 700)]"
      ]
     },
     "execution_count": 34,
     "metadata": {},
     "output_type": "execute_result"
    }
   ],
   "source": [
    "data_points = list(zip(x_values, y_values))\n",
    "data_points"
   ]
  },
  {
   "cell_type": "code",
   "execution_count": 35,
   "metadata": {},
   "outputs": [],
   "source": [
    "def squared_error(x, y, m, b):\n",
    "    return (y - (m*x + b))**2\n",
    "\n",
    "def residual_sum_squares(x_values, y_values, m, b):\n",
    "    data_points = list(zip(x_values, y_values))\n",
    "    squared_errors = map(lambda data_point: squared_error(data_point[0], data_point[1], m, b), data_points)\n",
    "    return sum(squared_errors)"
   ]
  },
  {
   "cell_type": "code",
   "execution_count": 36,
   "metadata": {},
   "outputs": [
    {
     "data": {
      "text/html": [
       "<script>requirejs.config({paths: { 'plotly': ['https://cdn.plot.ly/plotly-latest.min']},});if(!window.Plotly) {{require(['plotly'],function(plotly) {window.Plotly=plotly;});}}</script>"
      ],
      "text/vnd.plotly.v1+html": [
       "<script>requirejs.config({paths: { 'plotly': ['https://cdn.plot.ly/plotly-latest.min']},});if(!window.Plotly) {{require(['plotly'],function(plotly) {window.Plotly=plotly;});}}</script>"
      ]
     },
     "metadata": {},
     "output_type": "display_data"
    },
    {
     "data": {
      "application/vnd.plotly.v1+json": {
       "data": [
        {
         "mode": "markers",
         "name": "data",
         "text": [],
         "type": "scatter",
         "uid": "0682c768-d7e4-11e8-8e0d-34159e1c7ef8",
         "x": [
          100,
          200,
          400
         ],
         "y": [
          275,
          300,
          700
         ]
        },
        {
         "mode": "lines",
         "name": "line function",
         "type": "scatter",
         "uid": "0682d65e-d7e4-11e8-9146-34159e1c7ef8",
         "x": [
          100,
          200,
          400
         ],
         "y": [
          193.33,
          253.33,
          373.33000000000004
         ]
        }
       ],
       "layout": {}
      },
      "text/html": [
       "<div id=\"b00106bd-383f-463a-842d-ef1869477c9d\" style=\"height: 525px; width: 100%;\" class=\"plotly-graph-div\"></div><script type=\"text/javascript\">require([\"plotly\"], function(Plotly) { window.PLOTLYENV=window.PLOTLYENV || {};window.PLOTLYENV.BASE_URL=\"https://plot.ly\";Plotly.newPlot(\"b00106bd-383f-463a-842d-ef1869477c9d\", [{\"mode\": \"markers\", \"name\": \"data\", \"text\": [], \"x\": [100, 200, 400], \"y\": [275, 300, 700], \"type\": \"scatter\", \"uid\": \"068e98f4-d7e4-11e8-9fbf-34159e1c7ef8\"}, {\"mode\": \"lines\", \"name\": \"line function\", \"x\": [100, 200, 400], \"y\": [193.33, 253.33, 373.33000000000004], \"type\": \"scatter\", \"uid\": \"068e9c00-d7e4-11e8-97df-34159e1c7ef8\"}], {}, {\"showLink\": true, \"linkText\": \"Export to plot.ly\"})});</script>"
      ],
      "text/vnd.plotly.v1+html": [
       "<div id=\"b00106bd-383f-463a-842d-ef1869477c9d\" style=\"height: 525px; width: 100%;\" class=\"plotly-graph-div\"></div><script type=\"text/javascript\">require([\"plotly\"], function(Plotly) { window.PLOTLYENV=window.PLOTLYENV || {};window.PLOTLYENV.BASE_URL=\"https://plot.ly\";Plotly.newPlot(\"b00106bd-383f-463a-842d-ef1869477c9d\", [{\"mode\": \"markers\", \"name\": \"data\", \"text\": [], \"x\": [100, 200, 400], \"y\": [275, 300, 700], \"type\": \"scatter\", \"uid\": \"068e98f4-d7e4-11e8-9fbf-34159e1c7ef8\"}, {\"mode\": \"lines\", \"name\": \"line function\", \"x\": [100, 200, 400], \"y\": [193.33, 253.33, 373.33000000000004], \"type\": \"scatter\", \"uid\": \"068e9c00-d7e4-11e8-97df-34159e1c7ef8\"}], {}, {\"showLink\": true, \"linkText\": \"Export to plot.ly\"})});</script>"
      ]
     },
     "metadata": {},
     "output_type": "display_data"
    }
   ],
   "source": [
    "from plotly.offline import iplot, init_notebook_mode\n",
    "from graph import plot, m_b_trace\n",
    "import plotly.graph_objs as go\n",
    "\n",
    "init_notebook_mode(connected=True)\n",
    "\n",
    "from graph import trace_values, plot\n",
    "\n",
    "data_trace = trace_values(budgets, revenues)\n",
    "regression_trace = m_b_trace(.6, 133.33, budgets)\n",
    "plot([data_trace, regression_trace])\n",
    "\n",
    "#Note: again not sure why we're starting with .6. regression_trace = m_b_trace(1.42, 133.33, budgets) with m = 1.42 is much closer and actually reflects our build_regression_ line"
   ]
  },
  {
   "cell_type": "code",
   "execution_count": 37,
   "metadata": {},
   "outputs": [],
   "source": [
    "def rss_values(x_values, y_values, m_values, b):\n",
    "    return {'m_values': m_values, 'rss_values': list(map(lambda m : residual_sum_squares(x_values, y_values, m, b), m_values))}"
   ]
  },
  {
   "cell_type": "code",
   "execution_count": 38,
   "metadata": {},
   "outputs": [
    {
     "data": {
      "text/plain": [
       "{'m_values': [0.8, 0.9, 1.0, 1.1, 1.2, 1.3, 1.4, 1.5, 1.6, 1.7, 1.8],\n",
       " 'rss_values': [64693.76669999998,\n",
       "  45559.96669999998,\n",
       "  30626.166699999987,\n",
       "  19892.36669999999,\n",
       "  13358.5667,\n",
       "  11024.766700000004,\n",
       "  12890.96670000001,\n",
       "  18957.166700000016,\n",
       "  29223.36670000002,\n",
       "  43689.566700000025,\n",
       "  62355.76670000004]}"
      ]
     },
     "execution_count": 38,
     "metadata": {},
     "output_type": "execute_result"
    }
   ],
   "source": [
    "budgets = list(map(lambda show: show['budget'] ,shows))\n",
    "revenues = list(map(lambda show: show['revenue'] ,shows))\n",
    "initial_m_values = list(range(8, 19, 1))\n",
    "scaled_m_values = list(map(lambda initial_m_value: initial_m_value/10,initial_m_values))\n",
    "b_value = 133.33\n",
    "rss_values(budgets, revenues, scaled_m_values, b_value)\n",
    "\n",
    "# {'m_values': [0.8, 0.9, 1.0, 1.1, 1.2, 1.3, 1.4, 1.5, 1.6, 1.7, 1.8],\n",
    "#  'rss_values': [64693.76669999998,\n",
    "#   45559.96669999998,\n",
    "#   30626.166699999987,\n",
    "#   19892.36669999999,\n",
    "#   13358.5667,\n",
    "#   11024.766700000004,\n",
    "#   12890.96670000001,\n",
    "#   18957.166700000016,\n",
    "#   29223.36670000002,\n",
    "#   43689.566700000025,\n",
    "#   62355.76670000004]}"
   ]
  },
  {
   "cell_type": "code",
   "execution_count": 39,
   "metadata": {},
   "outputs": [
    {
     "data": {
      "text/html": [
       "<script>requirejs.config({paths: { 'plotly': ['https://cdn.plot.ly/plotly-latest.min']},});if(!window.Plotly) {{require(['plotly'],function(plotly) {window.Plotly=plotly;});}}</script>"
      ],
      "text/vnd.plotly.v1+html": [
       "<script>requirejs.config({paths: { 'plotly': ['https://cdn.plot.ly/plotly-latest.min']},});if(!window.Plotly) {{require(['plotly'],function(plotly) {window.Plotly=plotly;});}}</script>"
      ]
     },
     "metadata": {},
     "output_type": "display_data"
    }
   ],
   "source": [
    "from plotly.offline import iplot, init_notebook_mode\n",
    "from graph import plot\n",
    "import plotly.graph_objs as go\n",
    "\n",
    "init_notebook_mode(connected=True)\n",
    "\n",
    "def plot_table(headers, columns):\n",
    "    trace_cost_chart = go.Table(\n",
    "        header=dict(values=headers,\n",
    "                    line = dict(color='#7D7F80'),\n",
    "                    fill = dict(color='#a1c3d1'),\n",
    "                    align = ['left'] * 5),\n",
    "        cells=dict(values=columns,\n",
    "                   line = dict(color='#7D7F80'),\n",
    "                   fill = dict(color='#EDFAFF'),\n",
    "                   align = ['left'] * 5))\n",
    "    plot([trace_cost_chart])"
   ]
  },
  {
   "cell_type": "code",
   "execution_count": 40,
   "metadata": {},
   "outputs": [
    {
     "data": {
      "application/vnd.plotly.v1+json": {
       "data": [
        {
         "cells": {
          "align": [
           "left",
           "left",
           "left",
           "left",
           "left"
          ],
          "fill": {
           "color": "#EDFAFF"
          },
          "line": {
           "color": "#7D7F80"
          },
          "values": [
           [
            0.8,
            0.9,
            1,
            1.1,
            1.2,
            1.3,
            1.4,
            1.5,
            1.6,
            1.7,
            1.8
           ],
           [
            64693.76669999998,
            45559.96669999998,
            30626.166699999987,
            19892.36669999999,
            13358.5667,
            11024.766700000004,
            12890.96670000001,
            18957.166700000016,
            29223.36670000002,
            43689.566700000025,
            62355.76670000004
           ]
          ]
         },
         "header": {
          "align": [
           "left",
           "left",
           "left",
           "left",
           "left"
          ],
          "fill": {
           "color": "#a1c3d1"
          },
          "line": {
           "color": "#7D7F80"
          },
          "values": [
           "M values",
           "RSS values"
          ]
         },
         "type": "table",
         "uid": "08e5831a-d7e4-11e8-afe9-34159e1c7ef8"
        }
       ],
       "layout": {}
      },
      "text/html": [
       "<div id=\"39ad6742-edd0-4cfe-bf28-789022813fbd\" style=\"height: 525px; width: 100%;\" class=\"plotly-graph-div\"></div><script type=\"text/javascript\">require([\"plotly\"], function(Plotly) { window.PLOTLYENV=window.PLOTLYENV || {};window.PLOTLYENV.BASE_URL=\"https://plot.ly\";Plotly.newPlot(\"39ad6742-edd0-4cfe-bf28-789022813fbd\", [{\"cells\": {\"align\": [\"left\", \"left\", \"left\", \"left\", \"left\"], \"fill\": {\"color\": \"#EDFAFF\"}, \"line\": {\"color\": \"#7D7F80\"}, \"values\": [[0.8, 0.9, 1.0, 1.1, 1.2, 1.3, 1.4, 1.5, 1.6, 1.7, 1.8], [64693.76669999998, 45559.96669999998, 30626.166699999987, 19892.36669999999, 13358.5667, 11024.766700000004, 12890.96670000001, 18957.166700000016, 29223.36670000002, 43689.566700000025, 62355.76670000004]]}, \"header\": {\"align\": [\"left\", \"left\", \"left\", \"left\", \"left\"], \"fill\": {\"color\": \"#a1c3d1\"}, \"line\": {\"color\": \"#7D7F80\"}, \"values\": [\"M values\", \"RSS values\"]}, \"type\": \"table\", \"uid\": \"08ea52a8-d7e4-11e8-aac8-34159e1c7ef8\"}], {}, {\"showLink\": true, \"linkText\": \"Export to plot.ly\"})});</script>"
      ],
      "text/vnd.plotly.v1+html": [
       "<div id=\"39ad6742-edd0-4cfe-bf28-789022813fbd\" style=\"height: 525px; width: 100%;\" class=\"plotly-graph-div\"></div><script type=\"text/javascript\">require([\"plotly\"], function(Plotly) { window.PLOTLYENV=window.PLOTLYENV || {};window.PLOTLYENV.BASE_URL=\"https://plot.ly\";Plotly.newPlot(\"39ad6742-edd0-4cfe-bf28-789022813fbd\", [{\"cells\": {\"align\": [\"left\", \"left\", \"left\", \"left\", \"left\"], \"fill\": {\"color\": \"#EDFAFF\"}, \"line\": {\"color\": \"#7D7F80\"}, \"values\": [[0.8, 0.9, 1.0, 1.1, 1.2, 1.3, 1.4, 1.5, 1.6, 1.7, 1.8], [64693.76669999998, 45559.96669999998, 30626.166699999987, 19892.36669999999, 13358.5667, 11024.766700000004, 12890.96670000001, 18957.166700000016, 29223.36670000002, 43689.566700000025, 62355.76670000004]]}, \"header\": {\"align\": [\"left\", \"left\", \"left\", \"left\", \"left\"], \"fill\": {\"color\": \"#a1c3d1\"}, \"line\": {\"color\": \"#7D7F80\"}, \"values\": [\"M values\", \"RSS values\"]}, \"type\": \"table\", \"uid\": \"08ea52a8-d7e4-11e8-aac8-34159e1c7ef8\"}], {}, {\"showLink\": true, \"linkText\": \"Export to plot.ly\"})});</script>"
      ]
     },
     "metadata": {},
     "output_type": "display_data"
    }
   ],
   "source": [
    "cost_chart = rss_values(budgets, revenues, scaled_m_values, b_value)\n",
    "if cost_chart: \n",
    "    column_values = list(cost_chart.values())\n",
    "    plot_table(headers = ['M values', 'RSS values'], columns=column_values)\n",
    "    \n",
    "#Here we are taking the last function RSS_values and turning it into a chart"
   ]
  },
  {
   "cell_type": "code",
   "execution_count": 43,
   "metadata": {
    "scrolled": true
   },
   "outputs": [
    {
     "data": {
      "text/html": [
       "<script>requirejs.config({paths: { 'plotly': ['https://cdn.plot.ly/plotly-latest.min']},});if(!window.Plotly) {{require(['plotly'],function(plotly) {window.Plotly=plotly;});}}</script>"
      ],
      "text/vnd.plotly.v1+html": [
       "<script>requirejs.config({paths: { 'plotly': ['https://cdn.plot.ly/plotly-latest.min']},});if(!window.Plotly) {{require(['plotly'],function(plotly) {window.Plotly=plotly;});}}</script>"
      ]
     },
     "metadata": {},
     "output_type": "display_data"
    },
    {
     "data": {
      "application/vnd.plotly.v1+json": {
       "data": [
        {
         "mode": "lines",
         "name": "data",
         "text": [],
         "type": "scatter",
         "uid": "b4eeb6a4-d7e4-11e8-b0c3-34159e1c7ef8",
         "x": [
          0.1,
          0.2,
          0.3,
          0.4,
          0.5,
          0.6,
          0.7,
          0.8,
          0.9,
          1,
          1.1,
          1.2,
          1.3,
          1.4,
          1.5,
          1.6,
          1.7
         ],
         "y": [
          316230.36669999996,
          267696.56669999997,
          223362.76669999998,
          183228.96669999996,
          147295.16669999994,
          115561.36669999997,
          88027.56669999998,
          64693.76669999998,
          45559.96669999998,
          30626.166699999987,
          19892.36669999999,
          13358.5667,
          11024.766700000004,
          12890.96670000001,
          18957.166700000016,
          29223.36670000002,
          43689.566700000025
         ]
        }
       ],
       "layout": {}
      },
      "text/html": [
       "<div id=\"daef39bf-a58f-4bca-90a3-b75e438138be\" style=\"height: 525px; width: 100%;\" class=\"plotly-graph-div\"></div><script type=\"text/javascript\">require([\"plotly\"], function(Plotly) { window.PLOTLYENV=window.PLOTLYENV || {};window.PLOTLYENV.BASE_URL=\"https://plot.ly\";Plotly.newPlot(\"daef39bf-a58f-4bca-90a3-b75e438138be\", [{\"mode\": \"lines\", \"name\": \"data\", \"text\": [], \"x\": [0.1, 0.2, 0.3, 0.4, 0.5, 0.6, 0.7, 0.8, 0.9, 1.0, 1.1, 1.2, 1.3, 1.4, 1.5, 1.6, 1.7], \"y\": [316230.36669999996, 267696.56669999997, 223362.76669999998, 183228.96669999996, 147295.16669999994, 115561.36669999997, 88027.56669999998, 64693.76669999998, 45559.96669999998, 30626.166699999987, 19892.36669999999, 13358.5667, 11024.766700000004, 12890.96670000001, 18957.166700000016, 29223.36670000002, 43689.566700000025], \"type\": \"scatter\", \"uid\": \"b4f586a8-d7e4-11e8-b037-34159e1c7ef8\"}], {}, {\"showLink\": true, \"linkText\": \"Export to plot.ly\"})});</script>"
      ],
      "text/vnd.plotly.v1+html": [
       "<div id=\"daef39bf-a58f-4bca-90a3-b75e438138be\" style=\"height: 525px; width: 100%;\" class=\"plotly-graph-div\"></div><script type=\"text/javascript\">require([\"plotly\"], function(Plotly) { window.PLOTLYENV=window.PLOTLYENV || {};window.PLOTLYENV.BASE_URL=\"https://plot.ly\";Plotly.newPlot(\"daef39bf-a58f-4bca-90a3-b75e438138be\", [{\"mode\": \"lines\", \"name\": \"data\", \"text\": [], \"x\": [0.1, 0.2, 0.3, 0.4, 0.5, 0.6, 0.7, 0.8, 0.9, 1.0, 1.1, 1.2, 1.3, 1.4, 1.5, 1.6, 1.7], \"y\": [316230.36669999996, 267696.56669999997, 223362.76669999998, 183228.96669999996, 147295.16669999994, 115561.36669999997, 88027.56669999998, 64693.76669999998, 45559.96669999998, 30626.166699999987, 19892.36669999999, 13358.5667, 11024.766700000004, 12890.96670000001, 18957.166700000016, 29223.36670000002, 43689.566700000025], \"type\": \"scatter\", \"uid\": \"b4f586a8-d7e4-11e8-b037-34159e1c7ef8\"}], {}, {\"showLink\": true, \"linkText\": \"Export to plot.ly\"})});</script>"
      ]
     },
     "metadata": {},
     "output_type": "display_data"
    }
   ],
   "source": [
    "from plotly.offline import iplot, init_notebook_mode\n",
    "init_notebook_mode(connected=True)\n",
    "from graph import plot, trace_values\n",
    "\n",
    "initial_m_values = list(range(1, 18, 1))\n",
    "scaled_m_values = list(map(lambda initial_m_value: initial_m_value/10,initial_m_values))\n",
    "cost_values = rss_values(budgets, revenues, scaled_m_values, 133.33)\n",
    "\n",
    "if cost_values:\n",
    "    rss_trace = trace_values(cost_values['m_values'], cost_values['rss_values'], mode = 'lines')\n",
    "    plot([rss_trace])\n",
    "    \n",
    "#def trace_values(x_values, y_values, mode = 'markers', name=\"data\", text = []):\n",
    "#m_values = x_values ; rss_values = y_values"
   ]
  },
  {
   "cell_type": "code",
   "execution_count": 44,
   "metadata": {},
   "outputs": [
    {
     "data": {
      "text/plain": [
       "{'m_values': [0.1,\n",
       "  0.2,\n",
       "  0.3,\n",
       "  0.4,\n",
       "  0.5,\n",
       "  0.6,\n",
       "  0.7,\n",
       "  0.8,\n",
       "  0.9,\n",
       "  1.0,\n",
       "  1.1,\n",
       "  1.2,\n",
       "  1.3,\n",
       "  1.4,\n",
       "  1.5,\n",
       "  1.6,\n",
       "  1.7],\n",
       " 'rss_values': [316230.36669999996,\n",
       "  267696.56669999997,\n",
       "  223362.76669999998,\n",
       "  183228.96669999996,\n",
       "  147295.16669999994,\n",
       "  115561.36669999997,\n",
       "  88027.56669999998,\n",
       "  64693.76669999998,\n",
       "  45559.96669999998,\n",
       "  30626.166699999987,\n",
       "  19892.36669999999,\n",
       "  13358.5667,\n",
       "  11024.766700000004,\n",
       "  12890.96670000001,\n",
       "  18957.166700000016,\n",
       "  29223.36670000002,\n",
       "  43689.566700000025]}"
      ]
     },
     "execution_count": 44,
     "metadata": {},
     "output_type": "execute_result"
    }
   ],
   "source": [
    "cost_values\n",
    "#same as output of rss_values, so {'m_values':[m_values], 'rss_values':[rss_values]}"
   ]
  },
  {
   "cell_type": "code",
   "execution_count": 45,
   "metadata": {},
   "outputs": [],
   "source": [
    "from helper import slope_at"
   ]
  },
  {
   "cell_type": "code",
   "execution_count": 46,
   "metadata": {},
   "outputs": [
    {
     "data": {
      "text/plain": [
       "{'m': 0.6, 'slope': -296312.3333330441}"
      ]
     },
     "execution_count": 46,
     "metadata": {},
     "output_type": "execute_result"
    }
   ],
   "source": [
    "slope_at(budgets, revenues, .6, 133.33333333333326)\n",
    "\n",
    "#the cost slope when x = 0.6"
   ]
  },
  {
   "cell_type": "code",
   "execution_count": 47,
   "metadata": {},
   "outputs": [
    {
     "data": {
      "text/plain": [
       "{'m': 1.6, 'slope': 123687.66666691954}"
      ]
     },
     "execution_count": 47,
     "metadata": {},
     "output_type": "execute_result"
    }
   ],
   "source": [
    "slope_at(budgets, revenues, 1.6, 133.33333333333326)"
   ]
  },
  {
   "cell_type": "code",
   "execution_count": 53,
   "metadata": {},
   "outputs": [],
   "source": [
    "from error import residual_sum_squares                  \n",
    "def updated_m(m, learning_rate, cost_curve_slope):\n",
    "    return -1*learning_rate*cost_curve_slope + m\n",
    "\n",
    "#Here, the fraction is negative, i.e. multiplied by negative one, because we always want to move in the opposite direction of the slope. When the slope of the cost curve points downwards, we want to move to a higher y-intercept. Conversely, when we are on the right side of the curve and the slope is rising, we want to move backwards to a lower y-intercept."
   ]
  },
  {
   "cell_type": "code",
   "execution_count": 54,
   "metadata": {},
   "outputs": [
    {
     "data": {
      "text/plain": [
       "1.5343123333335096"
      ]
     },
     "execution_count": 54,
     "metadata": {},
     "output_type": "execute_result"
    }
   ],
   "source": [
    "current_slope = slope_at(budgets, revenues, 1.7, 133.33333333333326)['slope']\n",
    "updated_m(1.7, .000001, current_slope)\n",
    "# 1.5343123333335096"
   ]
  },
  {
   "cell_type": "code",
   "execution_count": 55,
   "metadata": {},
   "outputs": [
    {
     "data": {
      "text/plain": [
       "1.43803233333338"
      ]
     },
     "execution_count": 55,
     "metadata": {},
     "output_type": "execute_result"
    }
   ],
   "source": [
    "current_slope = slope_at(budgets, revenues, 1.534, 133.33333333333326)['slope']\n",
    "updated_m(1.534, .000001, current_slope)\n",
    "# 1.43803233333338"
   ]
  },
  {
   "cell_type": "code",
   "execution_count": 64,
   "metadata": {},
   "outputs": [
    {
     "data": {
      "text/plain": [
       "1.3823523333332086"
      ]
     },
     "execution_count": 64,
     "metadata": {},
     "output_type": "execute_result"
    }
   ],
   "source": [
    "current_slope = slope_at(budgets, revenues, 1.438, 133.33333333333326)['slope']\n",
    "updated_m(1.438, .000001, current_slope)\n",
    "# 1.3823523333332086"
   ]
  },
  {
   "cell_type": "code",
   "execution_count": 82,
   "metadata": {},
   "outputs": [],
   "source": [
    "def gradient_descent(x_values, y_values, steps, b, learning_rate, current_m):\n",
    "    cost_slope = []\n",
    "    for i in range(steps):\n",
    "        current_cost_slope = slope_at(x_values, y_values, current_m, b)['slope']\n",
    "        rss_value = residual_sum_squares(x_values, y_values, current_m, b)\n",
    "        cost_slope.append({'m': current_m, 'rss': rss_value, 'slope': current_cost_slope})\n",
    "        current_m = updated_m(current_m, learning_rate, current_cost_slope)\n",
    "    return cost_slope\n",
    "\n",
    "# REVISIT! got help w/ this one here: https://github.com/learn-co-students/gradient-descent-step-sizes-lab-data-science-intro-000/blob/solution/index.ipynb"
   ]
  },
  {
   "cell_type": "code",
   "execution_count": 83,
   "metadata": {},
   "outputs": [
    {
     "data": {
      "text/plain": [
       "[{'m': 0, 'rss': 368964.16669999994, 'slope': -548316.9999998063},\n",
       " {'m': 0.5483169999998062,\n",
       "  'rss': 131437.9413767516,\n",
       "  'slope': -318023.86000024853},\n",
       " {'m': 0.8663408600000547,\n",
       "  'rss': 51531.31420747324,\n",
       "  'slope': -184453.83880040026},\n",
       " {'m': 1.050794698800455,\n",
       "  'rss': 24649.097944855268,\n",
       "  'slope': -106983.22650372575},\n",
       " {'m': 1.1577779253041809,\n",
       "  'rss': 15604.976802103287,\n",
       "  'slope': -62050.271372208954},\n",
       " {'m': 1.2198281966763898,\n",
       "  'rss': 12561.987166284125,\n",
       "  'slope': -35989.15739588847},\n",
       " {'m': 1.2558173540722781,\n",
       "  'rss': 11538.008028425651,\n",
       "  'slope': -20873.711289696075},\n",
       " {'m': 1.2766910653619743,\n",
       "  'rss': 11193.357340315255,\n",
       "  'slope': -12106.752547970245},\n",
       " {'m': 1.2887978179099446,\n",
       "  'rss': 11077.310067278091,\n",
       "  'slope': -7021.916477824561},\n",
       " {'m': 1.295819734387769,\n",
       "  'rss': 11038.209831325046,\n",
       "  'slope': -4072.711557128059},\n",
       " {'m': 1.299892445944897,\n",
       "  'rss': 11025.020590634533,\n",
       "  'slope': -2362.172703124088},\n",
       " {'m': 1.302254618648021,\n",
       "  'rss': 11020.562895703,\n",
       "  'slope': -1370.0601677373925}]"
      ]
     },
     "execution_count": 83,
     "metadata": {},
     "output_type": "execute_result"
    }
   ],
   "source": [
    "descent_steps = gradient_descent(budgets, revenues, 12, 133.33, learning_rate = .000001, current_m = 0)\n",
    "descent_steps\n",
    "\n",
    "# [{'m': 0, 'rss': 368964.16669999994, 'slope': -548316.9999998063},\n",
    "#  {'m': 0.5483169999998062, 'rss': 131437.9413767516, 'slope': -318023.86000024853},\n",
    "#  {'m': 0.8663408600000547,  'rss': 51531.31420747324, 'slope': -184453.83880040026}, \n",
    "#  {'m': 1.050794698800455,  'rss': 24649.097944855268,  'slope': -106983.22650372575},\n",
    "#  {'m': 1.1577779253041809,  'rss': 15604.976802103287,  'slope': -62050.271372208954},\n",
    "#  {'m': 1.2198281966763898,  'rss': 12561.987166284125,  'slope': -35989.15739588847},\n",
    "#  {'m': 1.2558173540722781,  'rss': 11538.008028425651, 'slope': -20873.711289696075},\n",
    "#  {'m': 1.2766910653619743,  'rss': 11193.357340315255,  'slope': -12106.752547970245},\n",
    "#  {'m': 1.2887978179099446,  'rss': 11077.310067278091,  'slope': -7021.916477824561},\n",
    "#  {'m': 1.295819734387769,  'rss': 11038.209831325046,  'slope': -4072.711557128059},\n",
    "#  {'m': 1.299892445944897,  'rss': 11025.020590634533,  'slope': -2362.172703124088},\n",
    "#  {'m': 1.302254618648021,  'rss': 11020.562895703,  'slope': -1370.0601677373925}]"
   ]
  },
  {
   "cell_type": "code",
   "execution_count": null,
   "metadata": {},
   "outputs": [],
   "source": []
  }
 ],
 "metadata": {
  "kernelspec": {
   "display_name": "Python 3",
   "language": "python",
   "name": "python3"
  },
  "language_info": {
   "codemirror_mode": {
    "name": "ipython",
    "version": 3
   },
   "file_extension": ".py",
   "mimetype": "text/x-python",
   "name": "python",
   "nbconvert_exporter": "python",
   "pygments_lexer": "ipython3",
   "version": "3.6.5"
  }
 },
 "nbformat": 4,
 "nbformat_minor": 2
}
