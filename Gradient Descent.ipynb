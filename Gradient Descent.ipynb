{
 "cells": [
  {
   "cell_type": "code",
   "execution_count": 9,
   "metadata": {},
   "outputs": [],
   "source": [
    "first_movie = {'budget': 100, 'revenue': 275}\n",
    "second_movie = {'budget': 200, 'revenue': 300}\n",
    "third_movie = {'budget': 250, 'revenue': 550}\n",
    "fourth_movie = {'budget': 325, 'revenue': 525}\n",
    "fifth_movie = {'budget': 400, 'revenue': 700}\n",
    "\n",
    "shows = [first_movie, second_movie, third_movie, fourth_movie, fifth_movie]"
   ]
  },
  {
   "cell_type": "code",
   "execution_count": 10,
   "metadata": {},
   "outputs": [
    {
     "data": {
      "text/plain": [
       "{'m': 1.4166666666666667, 'b': 133.33333333333326}"
      ]
     },
     "execution_count": 10,
     "metadata": {},
     "output_type": "execute_result"
    }
   ],
   "source": [
    "from linear_equations import build_regression_line\n",
    "\n",
    "budgets = list(map(lambda show: show['budget'], shows))\n",
    "revenues = list(map(lambda show: show['revenue'], shows))\n",
    "\n",
    "build_regression_line(budgets, revenues)"
   ]
  },
  {
   "cell_type": "code",
   "execution_count": 11,
   "metadata": {},
   "outputs": [],
   "source": [
    "def regression_formula(x):\n",
    "    y = 1.417 * x + 133.33"
   ]
  },
  {
   "cell_type": "code",
   "execution_count": 12,
   "metadata": {},
   "outputs": [
    {
     "data": {
      "text/html": [
       "<script>requirejs.config({paths: { 'plotly': ['https://cdn.plot.ly/plotly-latest.min']},});if(!window.Plotly) {{require(['plotly'],function(plotly) {window.Plotly=plotly;});}}</script>"
      ],
      "text/vnd.plotly.v1+html": [
       "<script>requirejs.config({paths: { 'plotly': ['https://cdn.plot.ly/plotly-latest.min']},});if(!window.Plotly) {{require(['plotly'],function(plotly) {window.Plotly=plotly;});}}</script>"
      ]
     },
     "metadata": {},
     "output_type": "display_data"
    },
    {
     "data": {
      "application/vnd.plotly.v1+json": {
       "data": [
        {
         "mode": "lines",
         "name": "line function",
         "type": "scatter",
         "uid": "79961124-d7cb-11e8-a6e8-34159e1c7ef8",
         "x": [
          100,
          200,
          250,
          325,
          400
         ],
         "y": [
          275.03000000000003,
          416.73,
          487.58000000000004,
          593.855,
          700.1300000000001
         ]
        },
        {
         "mode": "markers",
         "name": "data",
         "text": [],
         "type": "scatter",
         "uid": "79a50a08-d7cb-11e8-bb90-34159e1c7ef8",
         "x": [
          100,
          200,
          250,
          325,
          400
         ],
         "y": [
          275,
          300,
          550,
          525,
          700
         ]
        }
       ],
       "layout": {}
      },
      "text/html": [
       "<div id=\"b05d9695-089e-47c2-a934-8b1aefe5a1f8\" style=\"height: 525px; width: 100%;\" class=\"plotly-graph-div\"></div><script type=\"text/javascript\">require([\"plotly\"], function(Plotly) { window.PLOTLYENV=window.PLOTLYENV || {};window.PLOTLYENV.BASE_URL=\"https://plot.ly\";Plotly.newPlot(\"b05d9695-089e-47c2-a934-8b1aefe5a1f8\", [{\"mode\": \"lines\", \"name\": \"line function\", \"x\": [100, 200, 250, 325, 400], \"y\": [275.03000000000003, 416.73, 487.58000000000004, 593.855, 700.1300000000001], \"type\": \"scatter\", \"uid\": \"7a5a46c0-d7cb-11e8-81e4-34159e1c7ef8\"}, {\"mode\": \"markers\", \"name\": \"data\", \"text\": [], \"x\": [100, 200, 250, 325, 400], \"y\": [275, 300, 550, 525, 700], \"type\": \"scatter\", \"uid\": \"7a5a4986-d7cb-11e8-aae4-34159e1c7ef8\"}], {}, {\"showLink\": true, \"linkText\": \"Export to plot.ly\"})});</script>"
      ],
      "text/vnd.plotly.v1+html": [
       "<div id=\"b05d9695-089e-47c2-a934-8b1aefe5a1f8\" style=\"height: 525px; width: 100%;\" class=\"plotly-graph-div\"></div><script type=\"text/javascript\">require([\"plotly\"], function(Plotly) { window.PLOTLYENV=window.PLOTLYENV || {};window.PLOTLYENV.BASE_URL=\"https://plot.ly\";Plotly.newPlot(\"b05d9695-089e-47c2-a934-8b1aefe5a1f8\", [{\"mode\": \"lines\", \"name\": \"line function\", \"x\": [100, 200, 250, 325, 400], \"y\": [275.03000000000003, 416.73, 487.58000000000004, 593.855, 700.1300000000001], \"type\": \"scatter\", \"uid\": \"7a5a46c0-d7cb-11e8-81e4-34159e1c7ef8\"}, {\"mode\": \"markers\", \"name\": \"data\", \"text\": [], \"x\": [100, 200, 250, 325, 400], \"y\": [275, 300, 550, 525, 700], \"type\": \"scatter\", \"uid\": \"7a5a4986-d7cb-11e8-aae4-34159e1c7ef8\"}], {}, {\"showLink\": true, \"linkText\": \"Export to plot.ly\"})});</script>"
      ]
     },
     "metadata": {},
     "output_type": "display_data"
    }
   ],
   "source": [
    "# First import the `plotly` libraries and functions in our notebook. \n",
    "import plotly\n",
    "from plotly.offline import init_notebook_mode, iplot\n",
    "init_notebook_mode(connected=True)\n",
    "\n",
    "# then import our graph functions\n",
    "from graph import m_b_trace, trace_values, plot\n",
    "\n",
    "regression_trace = m_b_trace(1.417, 133.33, budgets)\n",
    "scatter_trace = trace_values(budgets, revenues)\n",
    "plot([regression_trace, scatter_trace])"
   ]
  },
  {
   "cell_type": "code",
   "execution_count": 13,
   "metadata": {},
   "outputs": [
    {
     "data": {
      "application/vnd.plotly.v1+json": {
       "data": [
        {
         "mode": "markers",
         "name": "data",
         "text": [],
         "type": "scatter",
         "uid": "7a743774-d7cb-11e8-b96f-34159e1c7ef8",
         "x": [
          100,
          200,
          250,
          325,
          400
         ],
         "y": [
          275,
          300,
          550,
          525,
          700
         ]
        },
        {
         "mode": "lines",
         "name": "line function",
         "type": "scatter",
         "uid": "7a743a6c-d7cb-11e8-a58e-34159e1c7ef8",
         "x": [
          100,
          200,
          250,
          325,
          400
         ],
         "y": [
          275.03000000000003,
          416.73,
          487.58000000000004,
          593.855,
          700.1300000000001
         ]
        },
        {
         "mode": "lines",
         "name": "error at 100",
         "text": [
          "-0.03000000000002956"
         ],
         "textposition": "top right",
         "type": "scatter",
         "uid": "7a743c2e-d7cb-11e8-b760-34159e1c7ef8",
         "x": [
          100,
          100
         ],
         "y": [
          275,
          275.03000000000003
         ]
        },
        {
         "mode": "lines",
         "name": "error at 200",
         "text": [
          "-116.73000000000002"
         ],
         "textposition": "top right",
         "type": "scatter",
         "uid": "7a743dd2-d7cb-11e8-8713-34159e1c7ef8",
         "x": [
          200,
          200
         ],
         "y": [
          300,
          416.73
         ]
        },
        {
         "mode": "lines",
         "name": "error at 250",
         "text": [
          "62.41999999999996"
         ],
         "textposition": "top right",
         "type": "scatter",
         "uid": "7a743f6c-d7cb-11e8-bce6-34159e1c7ef8",
         "x": [
          250,
          250
         ],
         "y": [
          550,
          487.58000000000004
         ]
        },
        {
         "mode": "lines",
         "name": "error at 325",
         "text": [
          "-68.85500000000002"
         ],
         "textposition": "top right",
         "type": "scatter",
         "uid": "7a744162-d7cb-11e8-af85-34159e1c7ef8",
         "x": [
          325,
          325
         ],
         "y": [
          525,
          593.855
         ]
        },
        {
         "mode": "lines",
         "name": "error at 400",
         "text": [
          "-0.13000000000010914"
         ],
         "textposition": "top right",
         "type": "scatter",
         "uid": "7a744306-d7cb-11e8-9b09-34159e1c7ef8",
         "x": [
          400,
          400
         ],
         "y": [
          700,
          700.1300000000001
         ]
        }
       ],
       "layout": {}
      },
      "text/html": [
       "<div id=\"709d382d-b06b-43a9-bc35-224777ca0f08\" style=\"height: 525px; width: 100%;\" class=\"plotly-graph-div\"></div><script type=\"text/javascript\">require([\"plotly\"], function(Plotly) { window.PLOTLYENV=window.PLOTLYENV || {};window.PLOTLYENV.BASE_URL=\"https://plot.ly\";Plotly.newPlot(\"709d382d-b06b-43a9-bc35-224777ca0f08\", [{\"mode\": \"markers\", \"name\": \"data\", \"text\": [], \"x\": [100, 200, 250, 325, 400], \"y\": [275, 300, 550, 525, 700], \"type\": \"scatter\", \"uid\": \"7a98c076-d7cb-11e8-ad96-34159e1c7ef8\"}, {\"mode\": \"lines\", \"name\": \"line function\", \"x\": [100, 200, 250, 325, 400], \"y\": [275.03000000000003, 416.73, 487.58000000000004, 593.855, 700.1300000000001], \"type\": \"scatter\", \"uid\": \"7a98c74c-d7cb-11e8-a1f2-34159e1c7ef8\"}, {\"mode\": \"lines\", \"name\": \"error at 100\", \"text\": [\"-0.03000000000002956\"], \"textposition\": \"top right\", \"x\": [100, 100], \"y\": [275, 275.03000000000003], \"type\": \"scatter\", \"uid\": \"7a98df18-d7cb-11e8-958c-34159e1c7ef8\"}, {\"mode\": \"lines\", \"name\": \"error at 200\", \"text\": [\"-116.73000000000002\"], \"textposition\": \"top right\", \"x\": [200, 200], \"y\": [300, 416.73], \"type\": \"scatter\", \"uid\": \"7a98e13a-d7cb-11e8-9cdd-34159e1c7ef8\"}, {\"mode\": \"lines\", \"name\": \"error at 250\", \"text\": [\"62.41999999999996\"], \"textposition\": \"top right\", \"x\": [250, 250], \"y\": [550, 487.58000000000004], \"type\": \"scatter\", \"uid\": \"7a98e2fe-d7cb-11e8-9dfd-34159e1c7ef8\"}, {\"mode\": \"lines\", \"name\": \"error at 325\", \"text\": [\"-68.85500000000002\"], \"textposition\": \"top right\", \"x\": [325, 325], \"y\": [525, 593.855], \"type\": \"scatter\", \"uid\": \"7a98e4a2-d7cb-11e8-97a7-34159e1c7ef8\"}, {\"mode\": \"lines\", \"name\": \"error at 400\", \"text\": [\"-0.13000000000010914\"], \"textposition\": \"top right\", \"x\": [400, 400], \"y\": [700, 700.1300000000001], \"type\": \"scatter\", \"uid\": \"7a98e63a-d7cb-11e8-a9da-34159e1c7ef8\"}], {}, {\"showLink\": true, \"linkText\": \"Export to plot.ly\"})});</script>"
      ],
      "text/vnd.plotly.v1+html": [
       "<div id=\"709d382d-b06b-43a9-bc35-224777ca0f08\" style=\"height: 525px; width: 100%;\" class=\"plotly-graph-div\"></div><script type=\"text/javascript\">require([\"plotly\"], function(Plotly) { window.PLOTLYENV=window.PLOTLYENV || {};window.PLOTLYENV.BASE_URL=\"https://plot.ly\";Plotly.newPlot(\"709d382d-b06b-43a9-bc35-224777ca0f08\", [{\"mode\": \"markers\", \"name\": \"data\", \"text\": [], \"x\": [100, 200, 250, 325, 400], \"y\": [275, 300, 550, 525, 700], \"type\": \"scatter\", \"uid\": \"7a98c076-d7cb-11e8-ad96-34159e1c7ef8\"}, {\"mode\": \"lines\", \"name\": \"line function\", \"x\": [100, 200, 250, 325, 400], \"y\": [275.03000000000003, 416.73, 487.58000000000004, 593.855, 700.1300000000001], \"type\": \"scatter\", \"uid\": \"7a98c74c-d7cb-11e8-a1f2-34159e1c7ef8\"}, {\"mode\": \"lines\", \"name\": \"error at 100\", \"text\": [\"-0.03000000000002956\"], \"textposition\": \"top right\", \"x\": [100, 100], \"y\": [275, 275.03000000000003], \"type\": \"scatter\", \"uid\": \"7a98df18-d7cb-11e8-958c-34159e1c7ef8\"}, {\"mode\": \"lines\", \"name\": \"error at 200\", \"text\": [\"-116.73000000000002\"], \"textposition\": \"top right\", \"x\": [200, 200], \"y\": [300, 416.73], \"type\": \"scatter\", \"uid\": \"7a98e13a-d7cb-11e8-9cdd-34159e1c7ef8\"}, {\"mode\": \"lines\", \"name\": \"error at 250\", \"text\": [\"62.41999999999996\"], \"textposition\": \"top right\", \"x\": [250, 250], \"y\": [550, 487.58000000000004], \"type\": \"scatter\", \"uid\": \"7a98e2fe-d7cb-11e8-9dfd-34159e1c7ef8\"}, {\"mode\": \"lines\", \"name\": \"error at 325\", \"text\": [\"-68.85500000000002\"], \"textposition\": \"top right\", \"x\": [325, 325], \"y\": [525, 593.855], \"type\": \"scatter\", \"uid\": \"7a98e4a2-d7cb-11e8-97a7-34159e1c7ef8\"}, {\"mode\": \"lines\", \"name\": \"error at 400\", \"text\": [\"-0.13000000000010914\"], \"textposition\": \"top right\", \"x\": [400, 400], \"y\": [700, 700.1300000000001], \"type\": \"scatter\", \"uid\": \"7a98e63a-d7cb-11e8-a9da-34159e1c7ef8\"}], {}, {\"showLink\": true, \"linkText\": \"Export to plot.ly\"})});</script>"
      ]
     },
     "metadata": {},
     "output_type": "display_data"
    }
   ],
   "source": [
    "from graph import trace, plot, line_function_trace\n",
    "\n",
    "def y_actual(x, x_values, y_values):\n",
    "    combined_values = list(zip(x_values, y_values))\n",
    "    point_at_x = list(filter(lambda point: point[0] == x,combined_values))[0]\n",
    "    return point_at_x[1]\n",
    "\n",
    "def error_line_trace(x_values, y_values, m, b, x):\n",
    "    y_hat = m*x + b\n",
    "    y = y_actual(x, x_values, y_values)\n",
    "    name = 'error at ' + str(x)\n",
    "    error_value = y - y_hat\n",
    "    return {'x': [x, x], 'y': [y, y_hat], 'mode': 'lines', 'name': name, 'text': [error_value], 'textposition':'top right'}\n",
    "\n",
    "def error_line_traces(x_values, y_values, m, b):\n",
    "    return list(map(lambda x_value: error_line_trace(x_values, y_values, m, b, x_value), x_values))\n",
    "\n",
    "errors = error_line_traces(budgets, revenues, 1.417, 133.33)\n",
    "plot([scatter_trace, regression_trace, errors[0], errors[1], errors[2], errors[3], errors[4]])"
   ]
  }
 ],
 "metadata": {
  "kernelspec": {
   "display_name": "Python 3",
   "language": "python",
   "name": "python3"
  },
  "language_info": {
   "codemirror_mode": {
    "name": "ipython",
    "version": 3
   },
   "file_extension": ".py",
   "mimetype": "text/x-python",
   "name": "python",
   "nbconvert_exporter": "python",
   "pygments_lexer": "ipython3",
   "version": "3.6.5"
  }
 },
 "nbformat": 4,
 "nbformat_minor": 2
}
